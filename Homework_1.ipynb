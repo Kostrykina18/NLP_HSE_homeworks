{
 "cells": [
  {
   "cell_type": "markdown",
   "metadata": {},
   "source": [
    "# Екатерина Кострыкина БКЛ181"
   ]
  },
  {
   "cell_type": "markdown",
   "metadata": {},
   "source": [
    "#### Homework 1\n",
    "### Sentiment analysis of movie reviews using tonal dictionaries. Light version."
   ]
  },
  {
   "cell_type": "markdown",
   "metadata": {},
   "source": [
    "#### Imports"
   ]
  },
  {
   "cell_type": "code",
   "execution_count": 1,
   "metadata": {},
   "outputs": [],
   "source": [
    "import re\n",
    "import requests\n",
    "session = requests.session()\n",
    "from fake_useragent import UserAgent\n",
    "ua = UserAgent(verify_ssl=False)\n",
    "from bs4 import BeautifulSoup\n",
    "\n",
    "import numpy as np\n",
    "import pandas as pd\n",
    "from nltk.tokenize import word_tokenize\n",
    "from pymorphy2 import MorphAnalyzer\n",
    "a_morph = MorphAnalyzer()\n",
    "from sklearn.model_selection import train_test_split"
   ]
  },
  {
   "cell_type": "code",
   "execution_count": 36,
   "metadata": {},
   "outputs": [],
   "source": [
    "def clean(review):\n",
    "    review = re.sub('[^А-Яа-яЁё ]', ' ', review)\n",
    "    review = re.sub(' +', ' ', review)\n",
    "    return review\n",
    "\n",
    "\n",
    "def load_reviews(number, ton):\n",
    "    data = []\n",
    "    for i in range(1, number+1):\n",
    "        url = f'https://www.kinopoisk.ru/reviews/type/comment/status/{ton}/period/month/page/{i}/#list'\n",
    "        req = session.get(url, headers={'User-Agent': ua.random})\n",
    "        page = req.text\n",
    "        soup = BeautifulSoup(page, 'html.parser')\n",
    "        text = soup.find_all('span', {'class': '_reachbanner_'})\n",
    "        for review in text:\n",
    "            data.append(clean(str(review))) \n",
    "    return data\n",
    "\n",
    "\n",
    "def get_dataset(number):\n",
    "    pos_data = load_reviews(number, ton='good')\n",
    "    neg_data = load_reviews(number, ton='bad')\n",
    "    data = pd.DataFrame()\n",
    "    data['reviews'] = np.concatenate((pos_data, neg_data), axis=0)\n",
    "    a = np.zeros((len(pos_data), 1))\n",
    "    b = np.ones((len(neg_data), 1))\n",
    "    data['label'] = np.concatenate((a, b), axis=0) #0 +, 1 -\n",
    "    return data\n",
    "\n",
    "\n",
    "def lemmatize(review):\n",
    "    review = ' '.join([a_morph.parse(i)[0].normal_form for i in review])\n",
    "    return review\n",
    "\n",
    "\n",
    "def preprocess(review):\n",
    "    review = review.lower() # lowercase conversion\n",
    "    review = word_tokenize(review) # tokenize\n",
    "    review = lemmatize(review) # lemmatize\n",
    "    return review\n",
    "\n",
    "\n",
    "def get_sets(X_train, y_train):\n",
    "    pos_set = set(' '.join([i for i in X_train.loc[y_train==0.0]]).split()) # positive reviews\n",
    "    neg_set = set(' '.join([i for i in X_train.loc[y_train==1.0]]).split()) # negative reviews\n",
    "    pos_dict = pos_set.difference(neg_set) # elements which belongs only to positive reviews\n",
    "    neg_dict = neg_set.difference(pos_set) # elements which belongs only to negative reviews\n",
    "    return (pos_dict, neg_dict)\n",
    "    \n",
    "    \n",
    "def get_tonality(review, ton_sets, prep=False):\n",
    "    if prep: # for new unprocessed inputs\n",
    "        review = preprocess(review)\n",
    "    review = set(review.split())\n",
    "    check_pos = len(review.intersection(ton_sets[0])) # size of intersection with positive set\n",
    "    check_neg = len(review.intersection(ton_sets[1])) # size of intersection with negative set\n",
    "    if check_pos > check_neg:\n",
    "        return 0.0\n",
    "    else:\n",
    "        return 1.0\n",
    "    \n",
    "\n",
    "def accuracy(y_test, y_pred):\n",
    "    ans = np.mean(y_test==y_pred)\n",
    "    return ans"
   ]
  },
  {
   "cell_type": "markdown",
   "metadata": {},
   "source": [
    "#### Creating dataset\n",
    "Since [kinopoisk.ru](https://www.kinopoisk.ru/reviews/) has 10 reviews per page, we pass the number 25 to the **get_dataset** function to download 25 pages of positive and 25 pages negative reviews (25 * 10 = 250)\n",
    "\n",
    "* 250 positive and 250 negative reviews\n",
    "\n",
    "#### Lowercase conversion, tokenize, lemmatize via **preprocess** function"
   ]
  },
  {
   "cell_type": "code",
   "execution_count": 54,
   "metadata": {},
   "outputs": [],
   "source": [
    "dataset = get_dataset(25)\n",
    "dataset['reviews'] = [preprocess(i) for i in dataset['reviews']]"
   ]
  },
  {
   "cell_type": "code",
   "execution_count": 55,
   "metadata": {},
   "outputs": [
    {
     "data": {
      "text/html": [
       "<div>\n",
       "<style scoped>\n",
       "    .dataframe tbody tr th:only-of-type {\n",
       "        vertical-align: middle;\n",
       "    }\n",
       "\n",
       "    .dataframe tbody tr th {\n",
       "        vertical-align: top;\n",
       "    }\n",
       "\n",
       "    .dataframe thead th {\n",
       "        text-align: right;\n",
       "    }\n",
       "</style>\n",
       "<table border=\"1\" class=\"dataframe\">\n",
       "  <thead>\n",
       "    <tr style=\"text-align: right;\">\n",
       "      <th></th>\n",
       "      <th>reviews</th>\n",
       "      <th>label</th>\n",
       "    </tr>\n",
       "  </thead>\n",
       "  <tbody>\n",
       "    <tr>\n",
       "      <td>0</td>\n",
       "      <td>это какой то фантастика никто бы не стать бега...</td>\n",
       "      <td>0.0</td>\n",
       "    </tr>\n",
       "    <tr>\n",
       "      <td>1</td>\n",
       "      <td>замечательный одновременно лёгкий и глубокий ф...</td>\n",
       "      <td>0.0</td>\n",
       "    </tr>\n",
       "    <tr>\n",
       "      <td>2</td>\n",
       "      <td>один раз я смотреть этот фильм в кинотеатр ког...</td>\n",
       "      <td>0.0</td>\n",
       "    </tr>\n",
       "    <tr>\n",
       "      <td>3</td>\n",
       "      <td>тема ребёнок который вырасти без родитель редк...</td>\n",
       "      <td>0.0</td>\n",
       "    </tr>\n",
       "    <tr>\n",
       "      <td>4</td>\n",
       "      <td>каждый новый часть хороший предыдущий как тако...</td>\n",
       "      <td>0.0</td>\n",
       "    </tr>\n",
       "    <tr>\n",
       "      <td>...</td>\n",
       "      <td>...</td>\n",
       "      <td>...</td>\n",
       "    </tr>\n",
       "    <tr>\n",
       "      <td>495</td>\n",
       "      <td>мегана фокс ворваться в большой кинематограф б...</td>\n",
       "      <td>1.0</td>\n",
       "    </tr>\n",
       "    <tr>\n",
       "      <td>496</td>\n",
       "      <td>сложность это фильм создаваться не столько сло...</td>\n",
       "      <td>1.0</td>\n",
       "    </tr>\n",
       "    <tr>\n",
       "      <td>497</td>\n",
       "      <td>я где то читать что фильм продолжительность ме...</td>\n",
       "      <td>1.0</td>\n",
       "    </tr>\n",
       "    <tr>\n",
       "      <td>498</td>\n",
       "      <td>как только появиться трейлер то я сразу решить...</td>\n",
       "      <td>1.0</td>\n",
       "    </tr>\n",
       "    <tr>\n",
       "      <td>499</td>\n",
       "      <td>нет развитие сюжет главное герой пропадать из ...</td>\n",
       "      <td>1.0</td>\n",
       "    </tr>\n",
       "  </tbody>\n",
       "</table>\n",
       "<p>500 rows × 2 columns</p>\n",
       "</div>"
      ],
      "text/plain": [
       "                                               reviews  label\n",
       "0    это какой то фантастика никто бы не стать бега...    0.0\n",
       "1    замечательный одновременно лёгкий и глубокий ф...    0.0\n",
       "2    один раз я смотреть этот фильм в кинотеатр ког...    0.0\n",
       "3    тема ребёнок который вырасти без родитель редк...    0.0\n",
       "4    каждый новый часть хороший предыдущий как тако...    0.0\n",
       "..                                                 ...    ...\n",
       "495  мегана фокс ворваться в большой кинематограф б...    1.0\n",
       "496  сложность это фильм создаваться не столько сло...    1.0\n",
       "497  я где то читать что фильм продолжительность ме...    1.0\n",
       "498  как только появиться трейлер то я сразу решить...    1.0\n",
       "499  нет развитие сюжет главное герой пропадать из ...    1.0\n",
       "\n",
       "[500 rows x 2 columns]"
      ]
     },
     "execution_count": 55,
     "metadata": {},
     "output_type": "execute_result"
    }
   ],
   "source": [
    "dataset"
   ]
  },
  {
   "cell_type": "markdown",
   "metadata": {},
   "source": [
    "#### Splitting into training and test samples"
   ]
  },
  {
   "cell_type": "code",
   "execution_count": 56,
   "metadata": {},
   "outputs": [],
   "source": [
    "X_train, X_test, y_train, y_test = train_test_split(dataset['reviews'], dataset['label'], test_size=0.1)"
   ]
  },
  {
   "cell_type": "markdown",
   "metadata": {},
   "source": [
    "#### Creating tonal dictionaries from a training sample"
   ]
  },
  {
   "cell_type": "code",
   "execution_count": 57,
   "metadata": {},
   "outputs": [],
   "source": [
    "tonality_sets = get_sets(X_train, y_train)"
   ]
  },
  {
   "cell_type": "markdown",
   "metadata": {},
   "source": [
    "#### Predicting tonality and counting accuracy score"
   ]
  },
  {
   "cell_type": "code",
   "execution_count": 58,
   "metadata": {},
   "outputs": [
    {
     "data": {
      "text/plain": [
       "0.68"
      ]
     },
     "execution_count": 58,
     "metadata": {},
     "output_type": "execute_result"
    }
   ],
   "source": [
    "y_pred = [get_tonality(i, tonality_sets) for i in X_test]\n",
    "accuracy(y_test, y_pred)"
   ]
  },
  {
   "cell_type": "markdown",
   "metadata": {},
   "source": [
    "#### Improvement options:\n",
    "1. leave the most frequent words in the sets\n",
    "2. concatenate negative particles \"not\" (\"не\" for Russian) with the next word\n",
    "3. use syntactic bigrams, built on dependency trees, instead of regular unigrams"
   ]
  }
 ],
 "metadata": {
  "kernelspec": {
   "display_name": "Python 3",
   "language": "python",
   "name": "python3"
  },
  "language_info": {
   "codemirror_mode": {
    "name": "ipython",
    "version": 3
   },
   "file_extension": ".py",
   "mimetype": "text/x-python",
   "name": "python",
   "nbconvert_exporter": "python",
   "pygments_lexer": "ipython3",
   "version": "3.7.4"
  }
 },
 "nbformat": 4,
 "nbformat_minor": 2
}
